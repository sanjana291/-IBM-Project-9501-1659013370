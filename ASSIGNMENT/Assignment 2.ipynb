{
 "cells": [
  {
   "cell_type": "markdown",
   "id": "4f007efe",
   "metadata": {},
   "source": [
    "# 2) *Loading Dataset*"
   ]
  },
  {
   "cell_type": "code",
   "execution_count": null,
   "id": "d7dcbe48",
   "metadata": {},
   "outputs": [],
   "source": [
    "import pandas as pd\n",
    "import numpy as np\n",
    "import seaborn as sns\n",
    "import matplotlib.pyplot as plt\n",
    "from matplotlib import rcParams"
   ]
  },
  {
   "cell_type": "code",
   "execution_count": null,
   "id": "a9e09bbf",
   "metadata": {
    "scrolled": true
   },
   "outputs": [],
   "source": [
    "df=pd.read_csv('Churn_Modelling.csv')\n",
    "df"
   ]
  },
  {
   "cell_type": "code",
   "execution_count": null,
   "id": "3563ad49",
   "metadata": {},
   "outputs": [],
   "source": [
    "df.shape"
   ]
  },
  {
   "cell_type": "code",
   "execution_count": null,
   "id": "0674654b",
   "metadata": {},
   "outputs": [],
   "source": [
    "df.info()"
   ]
  },
  {
   "cell_type": "markdown",
   "id": "a7c29d2c",
   "metadata": {},
   "source": [
    " # 3) Visualization"
   ]
  },
  {
   "cell_type": "markdown",
   "id": "18b4490d",
   "metadata": {},
   "source": [
    "1) Univariable Analysis"
   ]
  },
  {
   "cell_type": "code",
   "execution_count": null,
   "id": "52e5cd8b",
   "metadata": {
    "scrolled": true
   },
   "outputs": [],
   "source": [
    "sns.distplot(df.CreditScore)"
   ]
  },
  {
   "cell_type": "code",
   "execution_count": null,
   "id": "f57e57a0",
   "metadata": {},
   "outputs": [],
   "source": [
    "sns.displot(df.Geography)"
   ]
  },
  {
   "cell_type": "code",
   "execution_count": null,
   "id": "c2c27109",
   "metadata": {
    "scrolled": false
   },
   "outputs": [],
   "source": [
    "plt.pie(df.Geography.value_counts(),[0.1,0.1,0.1],labels=['France','Spain Geography','Germany'],autopct='%1.1f',shadow=True)\n",
    "plt.title(' Geography ')\n",
    "plt.show()"
   ]
  },
  {
   "cell_type": "code",
   "execution_count": null,
   "id": "bdc2323f",
   "metadata": {},
   "outputs": [],
   "source": [
    "sns.barplot(df.Gender.value_counts().index,df.Gender.value_counts())"
   ]
  },
  {
   "cell_type": "code",
   "execution_count": null,
   "id": "2439bdc7",
   "metadata": {},
   "outputs": [],
   "source": [
    "sns.displot(df.Age,kind='kde')"
   ]
  },
  {
   "cell_type": "code",
   "execution_count": null,
   "id": "585b0bb6",
   "metadata": {},
   "outputs": [],
   "source": [
    "sns.displot(df.EstimatedSalary)"
   ]
  },
  {
   "cell_type": "markdown",
   "id": "4287ea62",
   "metadata": {},
   "source": [
    "2) Bi-variable Analysis"
   ]
  },
  {
   "cell_type": "code",
   "execution_count": null,
   "id": "54408382",
   "metadata": {},
   "outputs": [],
   "source": [
    "sns.lineplot(df.CreditScore,df.Age)"
   ]
  },
  {
   "cell_type": "code",
   "execution_count": null,
   "id": "86b8adb5",
   "metadata": {},
   "outputs": [],
   "source": [
    "sns.barplot(df.Gender,df.NumOfProducts)"
   ]
  },
  {
   "cell_type": "code",
   "execution_count": null,
   "id": "c93db287",
   "metadata": {},
   "outputs": [],
   "source": [
    "sns.scatterplot(df.CustomerId,df.Balance)"
   ]
  },
  {
   "cell_type": "code",
   "execution_count": null,
   "id": "0d293393",
   "metadata": {},
   "outputs": [],
   "source": [
    "sns.jointplot(df.Tenure,df.NumOfProducts)"
   ]
  },
  {
   "cell_type": "markdown",
   "id": "ed8775c9",
   "metadata": {},
   "source": [
    "3) Multi-variable Analysis"
   ]
  },
  {
   "cell_type": "code",
   "execution_count": null,
   "id": "d57f9edd",
   "metadata": {
    "scrolled": true
   },
   "outputs": [],
   "source": [
    "df.hist(figsize=(10,10))"
   ]
  },
  {
   "cell_type": "code",
   "execution_count": null,
   "id": "7c9e6432",
   "metadata": {},
   "outputs": [],
   "source": [
    "sns.pairplot(df)"
   ]
  },
  {
   "cell_type": "code",
   "execution_count": null,
   "id": "4e4dc55b",
   "metadata": {},
   "outputs": [],
   "source": [
    "sns.pairplot(df,hue='Gender',kind='scatter',diag_kind='kde')"
   ]
  },
  {
   "cell_type": "markdown",
   "id": "86f199c8",
   "metadata": {},
   "source": [
    " # 4) Perform descriptive station on the dataset"
   ]
  },
  {
   "cell_type": "code",
   "execution_count": null,
   "id": "075d98f7",
   "metadata": {},
   "outputs": [],
   "source": [
    "df.describe()"
   ]
  },
  {
   "cell_type": "markdown",
   "id": "d4d9e98e",
   "metadata": {},
   "source": [
    "# 5) Handle the missing values"
   ]
  },
  {
   "cell_type": "code",
   "execution_count": null,
   "id": "b8904b04",
   "metadata": {},
   "outputs": [],
   "source": [
    "df.isnull().any()"
   ]
  },
  {
   "cell_type": "code",
   "execution_count": null,
   "id": "b66d7401",
   "metadata": {},
   "outputs": [],
   "source": [
    "df.isnull().sum()"
   ]
  },
  {
   "cell_type": "markdown",
   "id": "c0f9ba79",
   "metadata": {},
   "source": [
    "# 6) Find the outliners and replace the outliners"
   ]
  },
  {
   "cell_type": "code",
   "execution_count": null,
   "id": "8b643343",
   "metadata": {
    "scrolled": true
   },
   "outputs": [],
   "source": [
    "sns.boxplot(df.CreditScore)"
   ]
  },
  {
   "cell_type": "code",
   "execution_count": null,
   "id": "732ee829",
   "metadata": {},
   "outputs": [],
   "source": [
    "p01=df.CreditScore.quantile(.01)\n",
    "p01"
   ]
  },
  {
   "cell_type": "code",
   "execution_count": null,
   "id": "51d19558",
   "metadata": {},
   "outputs": [],
   "source": [
    "df=df[df.CreditScore>=p01]"
   ]
  },
  {
   "cell_type": "code",
   "execution_count": null,
   "id": "40282eda",
   "metadata": {},
   "outputs": [],
   "source": [
    "sns.boxplot(df.CreditScore)"
   ]
  },
  {
   "cell_type": "code",
   "execution_count": null,
   "id": "24a5c968",
   "metadata": {
    "scrolled": true
   },
   "outputs": [],
   "source": [
    "sns.boxplot(df.NumOfProducts)"
   ]
  },
  {
   "cell_type": "code",
   "execution_count": null,
   "id": "70f102c4",
   "metadata": {},
   "outputs": [],
   "source": [
    "p99=df.NumOfProducts.quantile(.99)\n",
    "p99"
   ]
  },
  {
   "cell_type": "code",
   "execution_count": null,
   "id": "6241f5ee",
   "metadata": {},
   "outputs": [],
   "source": [
    "df=df[df.NumOfProducts<=p99]"
   ]
  },
  {
   "cell_type": "code",
   "execution_count": null,
   "id": "d59031db",
   "metadata": {},
   "outputs": [],
   "source": [
    "sns.boxplot(df.NumOfProducts)"
   ]
  },
  {
   "cell_type": "code",
   "execution_count": null,
   "id": "f504e779",
   "metadata": {
    "scrolled": true
   },
   "outputs": [],
   "source": [
    "sns.boxplot(df.Age)"
   ]
  },
  {
   "cell_type": "code",
   "execution_count": null,
   "id": "1326267d",
   "metadata": {},
   "outputs": [],
   "source": [
    "from scipy import stats"
   ]
  },
  {
   "cell_type": "code",
   "execution_count": null,
   "id": "d2ef62a1",
   "metadata": {},
   "outputs": [],
   "source": [
    "agezscore=stats.zscore(df.Age)\n",
    "agezscore"
   ]
  },
  {
   "cell_type": "code",
   "execution_count": null,
   "id": "afa76a07",
   "metadata": {},
   "outputs": [],
   "source": [
    "df=df[np.abs(agezscore)<=3]"
   ]
  },
  {
   "cell_type": "code",
   "execution_count": null,
   "id": "db57d47d",
   "metadata": {},
   "outputs": [],
   "source": [
    "sns.boxplot(df.Age)"
   ]
  },
  {
   "cell_type": "markdown",
   "id": "6cf9f89a",
   "metadata": {},
   "source": [
    "# 7) Check for categorical colums and perform encoding"
   ]
  },
  {
   "cell_type": "code",
   "execution_count": null,
   "id": "efecec77",
   "metadata": {},
   "outputs": [],
   "source": [
    "from sklearn.preprocessing import LabelEncoder"
   ]
  },
  {
   "cell_type": "code",
   "execution_count": null,
   "id": "27466bf9",
   "metadata": {},
   "outputs": [],
   "source": [
    "le=LabelEncoder() # label encoding"
   ]
  },
  {
   "cell_type": "code",
   "execution_count": null,
   "id": "1f547e37",
   "metadata": {
    "scrolled": true
   },
   "outputs": [],
   "source": [
    "df.Gender=le.fit_transform(df.Gender)\n",
    "df.Geography=le.fit_transform(df.Geography)\n",
    "df.Surname=le.fit_transform(df.Surname)\n",
    "df.head()"
   ]
  },
  {
   "cell_type": "code",
   "execution_count": null,
   "id": "6e5753ba",
   "metadata": {},
   "outputs": [],
   "source": [
    "df.corr()\n",
    "plt.figure(figsize=(20,20))\n",
    "sns.heatmap(df.corr(),annot=True)"
   ]
  },
  {
   "cell_type": "markdown",
   "id": "14764d1f",
   "metadata": {},
   "source": [
    "# 8) Splite the data into dependent and independent variable"
   ]
  },
  {
   "cell_type": "code",
   "execution_count": null,
   "id": "52c16cdc",
   "metadata": {},
   "outputs": [],
   "source": [
    "y=df['Exited']\n",
    "y.head()"
   ]
  },
  {
   "cell_type": "code",
   "execution_count": null,
   "id": "6bdb5939",
   "metadata": {},
   "outputs": [],
   "source": [
    "x=df.drop(columns=['Exited'],axis=1)\n",
    "x.head()"
   ]
  },
  {
   "cell_type": "markdown",
   "id": "762a452e",
   "metadata": {},
   "source": [
    "# 9) Scale the independent variable"
   ]
  },
  {
   "cell_type": "code",
   "execution_count": null,
   "id": "7ad951bb",
   "metadata": {},
   "outputs": [],
   "source": [
    "from sklearn.preprocessing import scale"
   ]
  },
  {
   "cell_type": "code",
   "execution_count": null,
   "id": "9b2cc0a6",
   "metadata": {},
   "outputs": [],
   "source": [
    "Xscaled=pd.DataFrame(scale(x),columns=x.columns)\n",
    "Xscaled.head()"
   ]
  },
  {
   "cell_type": "markdown",
   "id": "a173abf6",
   "metadata": {},
   "source": [
    "# 10) Splite the data in to training and testing"
   ]
  },
  {
   "cell_type": "code",
   "execution_count": null,
   "id": "ed00ab82",
   "metadata": {},
   "outputs": [],
   "source": [
    "from sklearn.model_selection import train_test_split"
   ]
  },
  {
   "cell_type": "code",
   "execution_count": null,
   "id": "e99a588d",
   "metadata": {},
   "outputs": [],
   "source": [
    "x_train,x_test,y_train,y_test=train_test_split(Xscaled,y,test_size=.3,random_state=0)\n",
    "x_train,x_test,y_train,y_test"
   ]
  },
  {
   "cell_type": "code",
   "execution_count": null,
   "id": "94c57265",
   "metadata": {},
   "outputs": [],
   "source": [
    "x_train.shape"
   ]
  }
 ],
 "metadata": {
  "kernelspec": {
   "display_name": "Python 3 (ipykernel)",
   "language": "python",
   "name": "python3"
  },
  "language_info": {
   "codemirror_mode": {
    "name": "ipython",
    "version": 3
   },
   "file_extension": ".py",
   "mimetype": "text/x-python",
   "name": "python",
   "nbconvert_exporter": "python",
   "pygments_lexer": "ipython3",
   "version": "3.9.12"
  }
 },
 "nbformat": 4,
 "nbformat_minor": 5
}
